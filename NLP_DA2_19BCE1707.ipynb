{
  "nbformat": 4,
  "nbformat_minor": 0,
  "metadata": {
    "colab": {
      "name": "NLP-DA2 -19BCE1707",
      "provenance": [],
      "include_colab_link": true
    },
    "kernelspec": {
      "name": "python3",
      "display_name": "Python 3"
    },
    "language_info": {
      "name": "python"
    }
  },
  "cells": [
    {
      "cell_type": "markdown",
      "metadata": {
        "id": "view-in-github",
        "colab_type": "text"
      },
      "source": [
        "<a href=\"https://colab.research.google.com/github/SVR03/NLP-19BCE1707/blob/main/NLP_DA2_19BCE1707.ipynb\" target=\"_parent\"><img src=\"https://colab.research.google.com/assets/colab-badge.svg\" alt=\"Open In Colab\"/></a>"
      ]
    },
    {
      "cell_type": "markdown",
      "source": [
        "# Natural Languange Processing - CSE4022\n",
        "## Digital Assignment2"
      ],
      "metadata": {
        "id": "b-fjL9IZeiyP"
      }
    },
    {
      "cell_type": "markdown",
      "source": [
        "## Sri vishnu ram a v 19BCE1707\n",
        "\n",
        "\n"
      ],
      "metadata": {
        "id": "MsY9lYxzellu"
      }
    },
    {
      "cell_type": "code",
      "source": [
        "import nltk\n",
        "from nltk.tokenize import word_tokenize, sent_tokenize\n",
        "nltk.download('punkt')"
      ],
      "metadata": {
        "colab": {
          "base_uri": "https://localhost:8080/"
        },
        "id": "5sc-5MTQhHf2",
        "outputId": "7071f59d-7aa4-4794-c58b-b2f18aa65711"
      },
      "execution_count": 1,
      "outputs": [
        {
          "output_type": "stream",
          "name": "stderr",
          "text": [
            "[nltk_data] Downloading package punkt to /root/nltk_data...\n",
            "[nltk_data]   Unzipping tokenizers/punkt.zip.\n"
          ]
        },
        {
          "output_type": "execute_result",
          "data": {
            "text/plain": [
              "True"
            ]
          },
          "metadata": {},
          "execution_count": 1
        }
      ]
    },
    {
      "cell_type": "code",
      "execution_count": 5,
      "metadata": {
        "id": "1ZAHAvBWecoH"
      },
      "outputs": [],
      "source": [
        "sentence = \"THIS MOVIE IS AMAZING!!! I love watching it! Jack and Rose, even though they are not real people and never were, feel so realistic and the effects and clothing and decoration they used in this movie makes it feel like I’m actually on the titanic with them! The flooding and sinking scenes were AMAZING and for a 1997 movie, I thought I was watching something from the future. This movie is a must-watch, and there is no wonder why it won so many awards, because it is most definitely the best movie this world has ever known. I also cannot think of anyone else to play Jack and Rose than Leonardo DiCaprio and Kate Winslet. They both did an absolutely awesome job and fit in very well with their roles, and the directors picked their entire cast very wisely. The “My heart Will go on” song was the perfect fit for the movie, and got stuck in my head after the 80th time I watched it, which is a very low estimate of the number of times I binge-watched this movie from my sofa with a bucket of popcorn. There are some bits of the movie which are not historically accurate, but oh so few of them, that it doesn’t really even matter. \""
      ]
    },
    {
      "cell_type": "markdown",
      "source": [
        "## Word Segmentation"
      ],
      "metadata": {
        "id": "ic5NWVeSkF8c"
      }
    },
    {
      "cell_type": "code",
      "source": [
        "word_tokenize(sentence)"
      ],
      "metadata": {
        "colab": {
          "base_uri": "https://localhost:8080/"
        },
        "id": "Mk7Fvv8CesPf",
        "outputId": "4dba50ae-f89d-4396-8dd9-c95793c1ce15"
      },
      "execution_count": 6,
      "outputs": [
        {
          "output_type": "execute_result",
          "data": {
            "text/plain": [
              "['THIS',\n",
              " 'MOVIE',\n",
              " 'IS',\n",
              " 'AMAZING',\n",
              " '!',\n",
              " '!',\n",
              " '!',\n",
              " 'I',\n",
              " 'love',\n",
              " 'watching',\n",
              " 'it',\n",
              " '!',\n",
              " 'Jack',\n",
              " 'and',\n",
              " 'Rose',\n",
              " ',',\n",
              " 'even',\n",
              " 'though',\n",
              " 'they',\n",
              " 'are',\n",
              " 'not',\n",
              " 'real',\n",
              " 'people',\n",
              " 'and',\n",
              " 'never',\n",
              " 'were',\n",
              " ',',\n",
              " 'feel',\n",
              " 'so',\n",
              " 'realistic',\n",
              " 'and',\n",
              " 'the',\n",
              " 'effects',\n",
              " 'and',\n",
              " 'clothing',\n",
              " 'and',\n",
              " 'decoration',\n",
              " 'they',\n",
              " 'used',\n",
              " 'in',\n",
              " 'this',\n",
              " 'movie',\n",
              " 'makes',\n",
              " 'it',\n",
              " 'feel',\n",
              " 'like',\n",
              " 'I',\n",
              " '’',\n",
              " 'm',\n",
              " 'actually',\n",
              " 'on',\n",
              " 'the',\n",
              " 'titanic',\n",
              " 'with',\n",
              " 'them',\n",
              " '!',\n",
              " 'The',\n",
              " 'flooding',\n",
              " 'and',\n",
              " 'sinking',\n",
              " 'scenes',\n",
              " 'were',\n",
              " 'AMAZING',\n",
              " 'and',\n",
              " 'for',\n",
              " 'a',\n",
              " '1997',\n",
              " 'movie',\n",
              " ',',\n",
              " 'I',\n",
              " 'thought',\n",
              " 'I',\n",
              " 'was',\n",
              " 'watching',\n",
              " 'something',\n",
              " 'from',\n",
              " 'the',\n",
              " 'future',\n",
              " '.',\n",
              " 'This',\n",
              " 'movie',\n",
              " 'is',\n",
              " 'a',\n",
              " 'must-watch',\n",
              " ',',\n",
              " 'and',\n",
              " 'there',\n",
              " 'is',\n",
              " 'no',\n",
              " 'wonder',\n",
              " 'why',\n",
              " 'it',\n",
              " 'won',\n",
              " 'so',\n",
              " 'many',\n",
              " 'awards',\n",
              " ',',\n",
              " 'because',\n",
              " 'it',\n",
              " 'is',\n",
              " 'most',\n",
              " 'definitely',\n",
              " 'the',\n",
              " 'best',\n",
              " 'movie',\n",
              " 'this',\n",
              " 'world',\n",
              " 'has',\n",
              " 'ever',\n",
              " 'known',\n",
              " '.',\n",
              " 'I',\n",
              " 'also',\n",
              " 'can',\n",
              " 'not',\n",
              " 'think',\n",
              " 'of',\n",
              " 'anyone',\n",
              " 'else',\n",
              " 'to',\n",
              " 'play',\n",
              " 'Jack',\n",
              " 'and',\n",
              " 'Rose',\n",
              " 'than',\n",
              " 'Leonardo',\n",
              " 'DiCaprio',\n",
              " 'and',\n",
              " 'Kate',\n",
              " 'Winslet',\n",
              " '.',\n",
              " 'They',\n",
              " 'both',\n",
              " 'did',\n",
              " 'an',\n",
              " 'absolutely',\n",
              " 'awesome',\n",
              " 'job',\n",
              " 'and',\n",
              " 'fit',\n",
              " 'in',\n",
              " 'very',\n",
              " 'well',\n",
              " 'with',\n",
              " 'their',\n",
              " 'roles',\n",
              " ',',\n",
              " 'and',\n",
              " 'the',\n",
              " 'directors',\n",
              " 'picked',\n",
              " 'their',\n",
              " 'entire',\n",
              " 'cast',\n",
              " 'very',\n",
              " 'wisely',\n",
              " '.',\n",
              " 'The',\n",
              " '“',\n",
              " 'My',\n",
              " 'heart',\n",
              " 'Will',\n",
              " 'go',\n",
              " 'on',\n",
              " '”',\n",
              " 'song',\n",
              " 'was',\n",
              " 'the',\n",
              " 'perfect',\n",
              " 'fit',\n",
              " 'for',\n",
              " 'the',\n",
              " 'movie',\n",
              " ',',\n",
              " 'and',\n",
              " 'got',\n",
              " 'stuck',\n",
              " 'in',\n",
              " 'my',\n",
              " 'head',\n",
              " 'after',\n",
              " 'the',\n",
              " '80th',\n",
              " 'time',\n",
              " 'I',\n",
              " 'watched',\n",
              " 'it',\n",
              " ',',\n",
              " 'which',\n",
              " 'is',\n",
              " 'a',\n",
              " 'very',\n",
              " 'low',\n",
              " 'estimate',\n",
              " 'of',\n",
              " 'the',\n",
              " 'number',\n",
              " 'of',\n",
              " 'times',\n",
              " 'I',\n",
              " 'binge-watched',\n",
              " 'this',\n",
              " 'movie',\n",
              " 'from',\n",
              " 'my',\n",
              " 'sofa',\n",
              " 'with',\n",
              " 'a',\n",
              " 'bucket',\n",
              " 'of',\n",
              " 'popcorn',\n",
              " '.',\n",
              " 'There',\n",
              " 'are',\n",
              " 'some',\n",
              " 'bits',\n",
              " 'of',\n",
              " 'the',\n",
              " 'movie',\n",
              " 'which',\n",
              " 'are',\n",
              " 'not',\n",
              " 'historically',\n",
              " 'accurate',\n",
              " ',',\n",
              " 'but',\n",
              " 'oh',\n",
              " 'so',\n",
              " 'few',\n",
              " 'of',\n",
              " 'them',\n",
              " ',',\n",
              " 'that',\n",
              " 'it',\n",
              " 'doesn',\n",
              " '’',\n",
              " 't',\n",
              " 'really',\n",
              " 'even',\n",
              " 'matter',\n",
              " '.']"
            ]
          },
          "metadata": {},
          "execution_count": 6
        }
      ]
    },
    {
      "cell_type": "markdown",
      "source": [
        "## Sentance Segmentation"
      ],
      "metadata": {
        "id": "yds6LIPnkNoc"
      }
    },
    {
      "cell_type": "code",
      "source": [
        "sent_tokenize(sentence)"
      ],
      "metadata": {
        "colab": {
          "base_uri": "https://localhost:8080/"
        },
        "id": "cygMDJDLesMX",
        "outputId": "78624687-f6b6-4800-82d4-f74a4bec2d8b"
      },
      "execution_count": 7,
      "outputs": [
        {
          "output_type": "execute_result",
          "data": {
            "text/plain": [
              "['THIS MOVIE IS AMAZING!!!',\n",
              " 'I love watching it!',\n",
              " 'Jack and Rose, even though they are not real people and never were, feel so realistic and the effects and clothing and decoration they used in this movie makes it feel like I’m actually on the titanic with them!',\n",
              " 'The flooding and sinking scenes were AMAZING and for a 1997 movie, I thought I was watching something from the future.',\n",
              " 'This movie is a must-watch, and there is no wonder why it won so many awards, because it is most definitely the best movie this world has ever known.',\n",
              " 'I also cannot think of anyone else to play Jack and Rose than Leonardo DiCaprio and Kate Winslet.',\n",
              " 'They both did an absolutely awesome job and fit in very well with their roles, and the directors picked their entire cast very wisely.',\n",
              " 'The “My heart Will go on” song was the perfect fit for the movie, and got stuck in my head after the 80th time I watched it, which is a very low estimate of the number of times I binge-watched this movie from my sofa with a bucket of popcorn.',\n",
              " 'There are some bits of the movie which are not historically accurate, but oh so few of them, that it doesn’t really even matter.']"
            ]
          },
          "metadata": {},
          "execution_count": 7
        }
      ]
    },
    {
      "cell_type": "markdown",
      "source": [
        "## Convert to LowerCase"
      ],
      "metadata": {
        "id": "wd00pIoukRlM"
      }
    },
    {
      "cell_type": "code",
      "source": [
        "sentence.lower()"
      ],
      "metadata": {
        "colab": {
          "base_uri": "https://localhost:8080/",
          "height": 123
        },
        "id": "Yvm7_FQVesJf",
        "outputId": "cfb908d3-8b75-43e7-cf8d-d8f37047dc3c"
      },
      "execution_count": 8,
      "outputs": [
        {
          "output_type": "execute_result",
          "data": {
            "text/plain": [
              "'this movie is amazing!!! i love watching it! jack and rose, even though they are not real people and never were, feel so realistic and the effects and clothing and decoration they used in this movie makes it feel like i’m actually on the titanic with them! the flooding and sinking scenes were amazing and for a 1997 movie, i thought i was watching something from the future. this movie is a must-watch, and there is no wonder why it won so many awards, because it is most definitely the best movie this world has ever known. i also cannot think of anyone else to play jack and rose than leonardo dicaprio and kate winslet. they both did an absolutely awesome job and fit in very well with their roles, and the directors picked their entire cast very wisely. the “my heart will go on” song was the perfect fit for the movie, and got stuck in my head after the 80th time i watched it, which is a very low estimate of the number of times i binge-watched this movie from my sofa with a bucket of popcorn. there are some bits of the movie which are not historically accurate, but oh so few of them, that it doesn’t really even matter. '"
            ],
            "application/vnd.google.colaboratory.intrinsic+json": {
              "type": "string"
            }
          },
          "metadata": {},
          "execution_count": 8
        }
      ]
    },
    {
      "cell_type": "markdown",
      "source": [
        "## Stop word Removal"
      ],
      "metadata": {
        "id": "ymPgOTfRkaUE"
      }
    },
    {
      "cell_type": "code",
      "source": [
        "nltk.download('stopwords')"
      ],
      "metadata": {
        "colab": {
          "base_uri": "https://localhost:8080/"
        },
        "id": "khuHztbJtU7k",
        "outputId": "383f68e9-64a5-4972-c473-21329cf83157"
      },
      "execution_count": 10,
      "outputs": [
        {
          "output_type": "stream",
          "name": "stderr",
          "text": [
            "[nltk_data] Downloading package stopwords to /root/nltk_data...\n",
            "[nltk_data]   Unzipping corpora/stopwords.zip.\n"
          ]
        },
        {
          "output_type": "execute_result",
          "data": {
            "text/plain": [
              "True"
            ]
          },
          "metadata": {},
          "execution_count": 10
        }
      ]
    },
    {
      "cell_type": "code",
      "source": [
        "from nltk.corpus import stopwords\n",
        "from token import *\n",
        "stop_words = set(stopwords.words('english'))\n",
        "print(stop_words)"
      ],
      "metadata": {
        "colab": {
          "base_uri": "https://localhost:8080/"
        },
        "id": "LluRsbiresG6",
        "outputId": "16df51de-815a-456d-bf4b-e307bf16ac55"
      },
      "execution_count": 11,
      "outputs": [
        {
          "output_type": "stream",
          "name": "stdout",
          "text": [
            "{'whom', 'a', \"you're\", 'because', 'this', 'wasn', 'out', 'such', \"mightn't\", 'hers', 'doing', \"aren't\", 'yours', 'no', 'our', 'each', \"you'd\", 'or', 'now', 'ma', 'has', 'same', 'against', 'himself', \"she's\", 'during', 'down', 'most', 'myself', 'only', 'll', 's', 'is', 'her', 'were', 'm', 'and', 'with', 'those', 'your', 'while', \"you've\", 'do', 'both', 'are', \"needn't\", 'haven', 'from', 'my', 'will', 'doesn', 'where', 're', 'he', 'weren', 'theirs', 'that', 'under', 'hasn', \"weren't\", 'again', 'they', \"hadn't\", 'who', 'these', 'them', 'through', 'any', \"that'll\", 'you', \"doesn't\", \"you'll\", 'other', 'further', 'until', \"should've\", \"don't\", 'had', 'why', 'was', 'own', 'i', 'did', 'been', \"wasn't\", 'off', 'does', 'to', \"shouldn't\", 'she', 'more', 'few', \"isn't\", 'am', 'at', 'once', 'him', \"it's\", 'having', 'all', 'themselves', 'their', 'don', \"didn't\", 'very', 'up', 'couldn', 'there', 'for', 'wouldn', 'shan', 'on', 'when', 'can', 'just', 'shouldn', 'itself', \"mustn't\", 'be', 'me', 'o', \"couldn't\", \"won't\", 'how', 'an', 'in', 'some', 'yourself', 'should', \"haven't\", 'into', 'isn', 'of', 'ain', 'over', 'too', 'mightn', 'have', 'needn', 'won', 'y', 'ourselves', 'its', 'before', \"shan't\", 'then', 't', 'his', 'so', 'herself', 've', 'aren', 'after', 'which', 'we', 'about', 'it', \"wouldn't\", 'ours', 'if', 'd', 'below', 'by', 'hadn', 'yourselves', 'here', 'but', 'didn', 'being', 'nor', 'not', 'the', 'than', 'between', 'as', 'above', 'mustn', \"hasn't\", 'what'}\n"
          ]
        }
      ]
    },
    {
      "cell_type": "code",
      "source": [
        ""
      ],
      "metadata": {
        "id": "efzWXszhtOmM"
      },
      "execution_count": null,
      "outputs": []
    },
    {
      "cell_type": "code",
      "source": [
        "word_tokens = word_tokenize(sentence)\n",
        "stopword_removal = [word for word in word_tokens if word not in stop_words]\n",
        "stopword = stopwords.words('english')\n",
        "print(stopword_removal)"
      ],
      "metadata": {
        "colab": {
          "base_uri": "https://localhost:8080/"
        },
        "id": "rPkPefjdesEC",
        "outputId": "aa70bf07-d5c2-41aa-9e74-fa911afc05e6"
      },
      "execution_count": 12,
      "outputs": [
        {
          "output_type": "stream",
          "name": "stdout",
          "text": [
            "['THIS', 'MOVIE', 'IS', 'AMAZING', '!', '!', '!', 'I', 'love', 'watching', '!', 'Jack', 'Rose', ',', 'even', 'though', 'real', 'people', 'never', ',', 'feel', 'realistic', 'effects', 'clothing', 'decoration', 'used', 'movie', 'makes', 'feel', 'like', 'I', '’', 'actually', 'titanic', '!', 'The', 'flooding', 'sinking', 'scenes', 'AMAZING', '1997', 'movie', ',', 'I', 'thought', 'I', 'watching', 'something', 'future', '.', 'This', 'movie', 'must-watch', ',', 'wonder', 'many', 'awards', ',', 'definitely', 'best', 'movie', 'world', 'ever', 'known', '.', 'I', 'also', 'think', 'anyone', 'else', 'play', 'Jack', 'Rose', 'Leonardo', 'DiCaprio', 'Kate', 'Winslet', '.', 'They', 'absolutely', 'awesome', 'job', 'fit', 'well', 'roles', ',', 'directors', 'picked', 'entire', 'cast', 'wisely', '.', 'The', '“', 'My', 'heart', 'Will', 'go', '”', 'song', 'perfect', 'fit', 'movie', ',', 'got', 'stuck', 'head', '80th', 'time', 'I', 'watched', ',', 'low', 'estimate', 'number', 'times', 'I', 'binge-watched', 'movie', 'sofa', 'bucket', 'popcorn', '.', 'There', 'bits', 'movie', 'historically', 'accurate', ',', 'oh', ',', '’', 'really', 'even', 'matter', '.']\n"
          ]
        }
      ]
    },
    {
      "cell_type": "markdown",
      "source": [
        "## Stemming"
      ],
      "metadata": {
        "id": "N-Kh2fDkkfEc"
      }
    },
    {
      "cell_type": "code",
      "source": [
        "from nltk.stem import SnowballStemmer\n",
        "stopword = stopwords.words('english')\n",
        "snowball_stemmer = SnowballStemmer('english')\n",
        "word_tokens = nltk.word_tokenize(sentence)\n",
        "stem = [snowball_stemmer.stem(word) for word in word_tokens]\n",
        "print(stem)"
      ],
      "metadata": {
        "colab": {
          "base_uri": "https://localhost:8080/"
        },
        "id": "2oQ4rbstesBO",
        "outputId": "2a634533-6cab-43bd-acf3-28f79ac2da19"
      },
      "execution_count": 13,
      "outputs": [
        {
          "output_type": "stream",
          "name": "stdout",
          "text": [
            "['this', 'movi', 'is', 'amaz', '!', '!', '!', 'i', 'love', 'watch', 'it', '!', 'jack', 'and', 'rose', ',', 'even', 'though', 'they', 'are', 'not', 'real', 'peopl', 'and', 'never', 'were', ',', 'feel', 'so', 'realist', 'and', 'the', 'effect', 'and', 'cloth', 'and', 'decor', 'they', 'use', 'in', 'this', 'movi', 'make', 'it', 'feel', 'like', 'i', '’', 'm', 'actual', 'on', 'the', 'titan', 'with', 'them', '!', 'the', 'flood', 'and', 'sink', 'scene', 'were', 'amaz', 'and', 'for', 'a', '1997', 'movi', ',', 'i', 'thought', 'i', 'was', 'watch', 'someth', 'from', 'the', 'futur', '.', 'this', 'movi', 'is', 'a', 'must-watch', ',', 'and', 'there', 'is', 'no', 'wonder', 'whi', 'it', 'won', 'so', 'mani', 'award', ',', 'becaus', 'it', 'is', 'most', 'definit', 'the', 'best', 'movi', 'this', 'world', 'has', 'ever', 'known', '.', 'i', 'also', 'can', 'not', 'think', 'of', 'anyon', 'els', 'to', 'play', 'jack', 'and', 'rose', 'than', 'leonardo', 'dicaprio', 'and', 'kate', 'winslet', '.', 'they', 'both', 'did', 'an', 'absolut', 'awesom', 'job', 'and', 'fit', 'in', 'veri', 'well', 'with', 'their', 'role', ',', 'and', 'the', 'director', 'pick', 'their', 'entir', 'cast', 'veri', 'wise', '.', 'the', '“', 'my', 'heart', 'will', 'go', 'on', '”', 'song', 'was', 'the', 'perfect', 'fit', 'for', 'the', 'movi', ',', 'and', 'got', 'stuck', 'in', 'my', 'head', 'after', 'the', '80th', 'time', 'i', 'watch', 'it', ',', 'which', 'is', 'a', 'veri', 'low', 'estim', 'of', 'the', 'number', 'of', 'time', 'i', 'binge-watch', 'this', 'movi', 'from', 'my', 'sofa', 'with', 'a', 'bucket', 'of', 'popcorn', '.', 'there', 'are', 'some', 'bit', 'of', 'the', 'movi', 'which', 'are', 'not', 'histor', 'accur', ',', 'but', 'oh', 'so', 'few', 'of', 'them', ',', 'that', 'it', 'doesn', '’', 't', 'realli', 'even', 'matter', '.']\n"
          ]
        }
      ]
    },
    {
      "cell_type": "markdown",
      "source": [
        "## Lemmatization"
      ],
      "metadata": {
        "id": "8Td6dHA8kiZe"
      }
    },
    {
      "cell_type": "code",
      "source": [
        "from nltk.stem import WordNetLemmatizer\n",
        "nltk.download('wordnet')\n",
        "nltk.download('omw-1.4')\n",
        "nltk.download('averaged_perceptron_tagger')\n",
        "\n",
        "stopword = stopwords.words('english')\n",
        "wordnet_lemmatizer = WordNetLemmatizer()\n",
        "word_tokens = nltk.word_tokenize(sentence)\n",
        "lemmatization = [wordnet_lemmatizer.lemmatize(word) for word in word_tokens]\n",
        "print(lemmatization)"
      ],
      "metadata": {
        "colab": {
          "base_uri": "https://localhost:8080/"
        },
        "id": "REiBd3i5jxcs",
        "outputId": "154cbb36-da97-4da9-fe0e-41a316e7148d"
      },
      "execution_count": 14,
      "outputs": [
        {
          "output_type": "stream",
          "name": "stderr",
          "text": [
            "[nltk_data] Downloading package wordnet to /root/nltk_data...\n",
            "[nltk_data] Downloading package omw-1.4 to /root/nltk_data...\n",
            "[nltk_data] Downloading package averaged_perceptron_tagger to\n",
            "[nltk_data]     /root/nltk_data...\n",
            "[nltk_data]   Unzipping taggers/averaged_perceptron_tagger.zip.\n"
          ]
        },
        {
          "output_type": "stream",
          "name": "stdout",
          "text": [
            "['THIS', 'MOVIE', 'IS', 'AMAZING', '!', '!', '!', 'I', 'love', 'watching', 'it', '!', 'Jack', 'and', 'Rose', ',', 'even', 'though', 'they', 'are', 'not', 'real', 'people', 'and', 'never', 'were', ',', 'feel', 'so', 'realistic', 'and', 'the', 'effect', 'and', 'clothing', 'and', 'decoration', 'they', 'used', 'in', 'this', 'movie', 'make', 'it', 'feel', 'like', 'I', '’', 'm', 'actually', 'on', 'the', 'titanic', 'with', 'them', '!', 'The', 'flooding', 'and', 'sinking', 'scene', 'were', 'AMAZING', 'and', 'for', 'a', '1997', 'movie', ',', 'I', 'thought', 'I', 'wa', 'watching', 'something', 'from', 'the', 'future', '.', 'This', 'movie', 'is', 'a', 'must-watch', ',', 'and', 'there', 'is', 'no', 'wonder', 'why', 'it', 'won', 'so', 'many', 'award', ',', 'because', 'it', 'is', 'most', 'definitely', 'the', 'best', 'movie', 'this', 'world', 'ha', 'ever', 'known', '.', 'I', 'also', 'can', 'not', 'think', 'of', 'anyone', 'else', 'to', 'play', 'Jack', 'and', 'Rose', 'than', 'Leonardo', 'DiCaprio', 'and', 'Kate', 'Winslet', '.', 'They', 'both', 'did', 'an', 'absolutely', 'awesome', 'job', 'and', 'fit', 'in', 'very', 'well', 'with', 'their', 'role', ',', 'and', 'the', 'director', 'picked', 'their', 'entire', 'cast', 'very', 'wisely', '.', 'The', '“', 'My', 'heart', 'Will', 'go', 'on', '”', 'song', 'wa', 'the', 'perfect', 'fit', 'for', 'the', 'movie', ',', 'and', 'got', 'stuck', 'in', 'my', 'head', 'after', 'the', '80th', 'time', 'I', 'watched', 'it', ',', 'which', 'is', 'a', 'very', 'low', 'estimate', 'of', 'the', 'number', 'of', 'time', 'I', 'binge-watched', 'this', 'movie', 'from', 'my', 'sofa', 'with', 'a', 'bucket', 'of', 'popcorn', '.', 'There', 'are', 'some', 'bit', 'of', 'the', 'movie', 'which', 'are', 'not', 'historically', 'accurate', ',', 'but', 'oh', 'so', 'few', 'of', 'them', ',', 'that', 'it', 'doesn', '’', 't', 'really', 'even', 'matter', '.']\n"
          ]
        }
      ]
    },
    {
      "cell_type": "markdown",
      "source": [
        "## Parts of speech tagger"
      ],
      "metadata": {
        "id": "b6gGUyHCknSs"
      }
    },
    {
      "cell_type": "code",
      "source": [
        "words_tagging = nltk.word_tokenize(sentence)\n",
        "pos_tagging = nltk.pos_tag(words_tagging)\n",
        "print(pos_tagging)"
      ],
      "metadata": {
        "colab": {
          "base_uri": "https://localhost:8080/"
        },
        "id": "6VlB4PMBjxR0",
        "outputId": "e7d45cff-6110-45ac-fb2b-609a6acc209c"
      },
      "execution_count": 15,
      "outputs": [
        {
          "output_type": "stream",
          "name": "stdout",
          "text": [
            "[('THIS', 'NNP'), ('MOVIE', 'NNP'), ('IS', 'NNP'), ('AMAZING', 'NNP'), ('!', '.'), ('!', '.'), ('!', '.'), ('I', 'PRP'), ('love', 'VBP'), ('watching', 'VBG'), ('it', 'PRP'), ('!', '.'), ('Jack', 'NNP'), ('and', 'CC'), ('Rose', 'NNP'), (',', ','), ('even', 'RB'), ('though', 'IN'), ('they', 'PRP'), ('are', 'VBP'), ('not', 'RB'), ('real', 'JJ'), ('people', 'NNS'), ('and', 'CC'), ('never', 'RB'), ('were', 'VBD'), (',', ','), ('feel', 'VB'), ('so', 'RB'), ('realistic', 'JJ'), ('and', 'CC'), ('the', 'DT'), ('effects', 'NNS'), ('and', 'CC'), ('clothing', 'NN'), ('and', 'CC'), ('decoration', 'NN'), ('they', 'PRP'), ('used', 'VBD'), ('in', 'IN'), ('this', 'DT'), ('movie', 'NN'), ('makes', 'VBZ'), ('it', 'PRP'), ('feel', 'VB'), ('like', 'IN'), ('I', 'PRP'), ('’', 'VBP'), ('m', 'PRP'), ('actually', 'RB'), ('on', 'IN'), ('the', 'DT'), ('titanic', 'NN'), ('with', 'IN'), ('them', 'PRP'), ('!', '.'), ('The', 'DT'), ('flooding', 'NN'), ('and', 'CC'), ('sinking', 'NN'), ('scenes', 'NNS'), ('were', 'VBD'), ('AMAZING', 'NNP'), ('and', 'CC'), ('for', 'IN'), ('a', 'DT'), ('1997', 'CD'), ('movie', 'NN'), (',', ','), ('I', 'PRP'), ('thought', 'VBD'), ('I', 'PRP'), ('was', 'VBD'), ('watching', 'VBG'), ('something', 'NN'), ('from', 'IN'), ('the', 'DT'), ('future', 'NN'), ('.', '.'), ('This', 'DT'), ('movie', 'NN'), ('is', 'VBZ'), ('a', 'DT'), ('must-watch', 'NN'), (',', ','), ('and', 'CC'), ('there', 'EX'), ('is', 'VBZ'), ('no', 'DT'), ('wonder', 'NN'), ('why', 'WRB'), ('it', 'PRP'), ('won', 'VBD'), ('so', 'RB'), ('many', 'JJ'), ('awards', 'NNS'), (',', ','), ('because', 'IN'), ('it', 'PRP'), ('is', 'VBZ'), ('most', 'RBS'), ('definitely', 'RB'), ('the', 'DT'), ('best', 'JJS'), ('movie', 'NN'), ('this', 'DT'), ('world', 'NN'), ('has', 'VBZ'), ('ever', 'RB'), ('known', 'VBN'), ('.', '.'), ('I', 'PRP'), ('also', 'RB'), ('can', 'MD'), ('not', 'RB'), ('think', 'VB'), ('of', 'IN'), ('anyone', 'NN'), ('else', 'RB'), ('to', 'TO'), ('play', 'VB'), ('Jack', 'NNP'), ('and', 'CC'), ('Rose', 'NNP'), ('than', 'IN'), ('Leonardo', 'NNP'), ('DiCaprio', 'NNP'), ('and', 'CC'), ('Kate', 'NNP'), ('Winslet', 'NNP'), ('.', '.'), ('They', 'PRP'), ('both', 'DT'), ('did', 'VBD'), ('an', 'DT'), ('absolutely', 'RB'), ('awesome', 'JJ'), ('job', 'NN'), ('and', 'CC'), ('fit', 'NN'), ('in', 'IN'), ('very', 'RB'), ('well', 'RB'), ('with', 'IN'), ('their', 'PRP$'), ('roles', 'NNS'), (',', ','), ('and', 'CC'), ('the', 'DT'), ('directors', 'NNS'), ('picked', 'VBD'), ('their', 'PRP$'), ('entire', 'JJ'), ('cast', 'NN'), ('very', 'RB'), ('wisely', 'RB'), ('.', '.'), ('The', 'DT'), ('“', 'JJ'), ('My', 'NNP'), ('heart', 'NN'), ('Will', 'NNP'), ('go', 'VB'), ('on', 'IN'), ('”', 'NN'), ('song', 'NN'), ('was', 'VBD'), ('the', 'DT'), ('perfect', 'JJ'), ('fit', 'NN'), ('for', 'IN'), ('the', 'DT'), ('movie', 'NN'), (',', ','), ('and', 'CC'), ('got', 'VBD'), ('stuck', 'VBN'), ('in', 'IN'), ('my', 'PRP$'), ('head', 'NN'), ('after', 'IN'), ('the', 'DT'), ('80th', 'JJ'), ('time', 'NN'), ('I', 'PRP'), ('watched', 'VBD'), ('it', 'PRP'), (',', ','), ('which', 'WDT'), ('is', 'VBZ'), ('a', 'DT'), ('very', 'RB'), ('low', 'JJ'), ('estimate', 'NN'), ('of', 'IN'), ('the', 'DT'), ('number', 'NN'), ('of', 'IN'), ('times', 'NNS'), ('I', 'PRP'), ('binge-watched', 'VBP'), ('this', 'DT'), ('movie', 'NN'), ('from', 'IN'), ('my', 'PRP$'), ('sofa', 'NN'), ('with', 'IN'), ('a', 'DT'), ('bucket', 'NN'), ('of', 'IN'), ('popcorn', 'NN'), ('.', '.'), ('There', 'EX'), ('are', 'VBP'), ('some', 'DT'), ('bits', 'NNS'), ('of', 'IN'), ('the', 'DT'), ('movie', 'NN'), ('which', 'WDT'), ('are', 'VBP'), ('not', 'RB'), ('historically', 'RB'), ('accurate', 'JJ'), (',', ','), ('but', 'CC'), ('oh', 'UH'), ('so', 'RB'), ('few', 'JJ'), ('of', 'IN'), ('them', 'PRP'), (',', ','), ('that', 'IN'), ('it', 'PRP'), ('doesn', 'VBZ'), ('’', 'JJ'), ('t', 'NN'), ('really', 'RB'), ('even', 'RB'), ('matter', 'RBR'), ('.', '.')]\n"
          ]
        }
      ]
    },
    {
      "cell_type": "code",
      "source": [
        ""
      ],
      "metadata": {
        "id": "pFsKodlber0O"
      },
      "execution_count": null,
      "outputs": []
    }
  ]
}